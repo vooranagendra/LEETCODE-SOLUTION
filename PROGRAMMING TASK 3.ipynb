{
 "cells": [
  {
   "cell_type": "markdown",
   "metadata": {},
   "source": [
    "<b>Maximum Product of Two Elements in an Array"
   ]
  },
  {
   "cell_type": "code",
   "execution_count": null,
   "metadata": {},
   "outputs": [],
   "source": [
    "class Solution(object):\n",
    "    def maxProduct(self, nums):\n",
    "        \"\"\"\n",
    "        :type nums: List[int]\n",
    "        :rtype: int\n",
    "        \"\"\"\n",
    "        nums.sort()\n",
    "        return((nums[-1]-1)*(nums[-2]-1))"
   ]
  },
  {
   "cell_type": "markdown",
   "metadata": {},
   "source": [
    "<b>Count Number of Teams"
   ]
  },
  {
   "cell_type": "code",
   "execution_count": null,
   "metadata": {},
   "outputs": [],
   "source": [
    "class Solution:\n",
    "    def numTeams(self, A):\n",
    "        L = len(A)\n",
    "        result = 0\n",
    "        for j in range(1,L-1):\n",
    "            x, low_L, low_R, high_L, high_R = A[j], 0, 0, 0, 0\n",
    "            for i in range(j):\n",
    "                if A[i]<x:\n",
    "                    low_L += 1\n",
    "                else:\n",
    "                    high_L += 1\n",
    "            for k in range(j+1,L):\n",
    "                if A[k]<x:\n",
    "                    low_R += 1\n",
    "                else:\n",
    "                    high_R += 1\n",
    "            result += low_L*high_R + high_L*low_R\n",
    "        return result"
   ]
  },
  {
   "cell_type": "markdown",
   "metadata": {},
   "source": [
    "<b>Number of Students Doing Homework at a Given Time"
   ]
  },
  {
   "cell_type": "code",
   "execution_count": null,
   "metadata": {},
   "outputs": [],
   "source": [
    "class Solution(object):\n",
    "    def busyStudent(self, startTime, endTime, queryTime):\n",
    "        \"\"\"\n",
    "        :type startTime: List[int]\n",
    "        :type endTime: List[int]\n",
    "        :type queryTime: int\n",
    "        :rtype: int\n",
    "        \"\"\"\n",
    "        count=0\n",
    "        for i,j in zip(startTime,endTime):\n",
    "            if i<=queryTime and j>=queryTime:\n",
    "                count+=1\n",
    "        return count"
   ]
  },
  {
   "cell_type": "markdown",
   "metadata": {},
   "source": [
    "<b>Number of Steps to Reduce a Number to Zero"
   ]
  },
  {
   "cell_type": "code",
   "execution_count": null,
   "metadata": {},
   "outputs": [],
   "source": [
    "class Solution(object):\n",
    "    def numberOfSteps(self, num):\n",
    "        \"\"\"\n",
    "        :type num: int\n",
    "        :rtype: int\n",
    "        \"\"\"\n",
    "        count=0\n",
    "        while num>0:\n",
    "            if num%2==0:\n",
    "                num/=2\n",
    "            else:\n",
    "                num-=1\n",
    "            count+=1\n",
    "        return count"
   ]
  },
  {
   "cell_type": "markdown",
   "metadata": {},
   "source": [
    "<b>Counting Bits"
   ]
  },
  {
   "cell_type": "code",
   "execution_count": null,
   "metadata": {},
   "outputs": [],
   "source": [
    "class Solution(object):\n",
    "    def countBits(self, n):\n",
    "        \"\"\"\n",
    "        :type n: int\n",
    "        :rtype: List[int]\n",
    "        \"\"\"\n",
    "        ans=[]\n",
    "        for i in range(n+1):\n",
    "            count=0\n",
    "            while i>0:\n",
    "                if i%2==0:\n",
    "                    i/=2\n",
    "                else:\n",
    "                    count+=1\n",
    "                    i-=1\n",
    "                    i/=2\n",
    "            ans.append(count)\n",
    "        return ans"
   ]
  },
  {
   "cell_type": "code",
   "execution_count": null,
   "metadata": {},
   "outputs": [],
   "source": []
  }
 ],
 "metadata": {
  "kernelspec": {
   "display_name": "Python 3",
   "language": "python",
   "name": "python3"
  },
  "language_info": {
   "codemirror_mode": {
    "name": "ipython",
    "version": 3
   },
   "file_extension": ".py",
   "mimetype": "text/x-python",
   "name": "python",
   "nbconvert_exporter": "python",
   "pygments_lexer": "ipython3",
   "version": "3.8.3"
  }
 },
 "nbformat": 4,
 "nbformat_minor": 4
}
