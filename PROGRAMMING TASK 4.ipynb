{
 "cells": [
  {
   "cell_type": "markdown",
   "metadata": {},
   "source": [
    "<b>Single Number"
   ]
  },
  {
   "cell_type": "code",
   "execution_count": null,
   "metadata": {},
   "outputs": [],
   "source": [
    "class Solution(object):\n",
    "    def singleNumber(self, nums):\n",
    "        \"\"\"\n",
    "        :type nums: List[int]\n",
    "        :rtype: int\n",
    "        \"\"\"\n",
    "        \"\"\"for i in range(nums:\n",
    "            count=0\n",
    "            for j in nums:\n",
    "                if i==j:\n",
    "                    count+=1\n",
    "            if count==0:\n",
    "                exit\n",
    "        return i\"\"\"\n",
    "        xor = 0\n",
    "        for num in nums:\n",
    "            xor ^= num\n",
    "        \n",
    "        return xor\n"
   ]
  },
  {
   "cell_type": "markdown",
   "metadata": {},
   "source": [
    "<b>Sort Integers by The Number of 1 Bits"
   ]
  },
  {
   "cell_type": "code",
   "execution_count": null,
   "metadata": {},
   "outputs": [],
   "source": [
    "class Solution(object):\n",
    "    def sortByBits(self, arr):\n",
    "        \"\"\"\n",
    "        :type arr: List[int]\n",
    "        :rtype: List[int]\n",
    "        \"\"\"\n",
    "        num_1s_in_val=[]\n",
    "        for i in arr:\n",
    "            count=0\n",
    "            while i>0:\n",
    "                if i%2!=0:\n",
    "                    count+=1\n",
    "                    i-=1\n",
    "                i/=2\n",
    "            num_1s_in_val.append(count)\n",
    "\n",
    "        n=len(num_1s_in_val)\n",
    "\n",
    "        for i in range(n):\n",
    "            min_val_index=i\n",
    "            for j in range(i+1,n):\n",
    "                if num_1s_in_val[min_val_index]>num_1s_in_val[j]:\n",
    "                    min_val_index=j\n",
    "            num_1s_in_val[i],num_1s_in_val[min_val_index]=num_1s_in_val[min_val_index],num_1s_in_val[i]\n",
    "            arr[i],arr[min_val_index]=arr[min_val_index],arr[i]\n",
    "            \n",
    "        n=len(arr)\n",
    "        for i in range(n):\n",
    "            min_val_index=i\n",
    "            for j in range(i+1,n):\n",
    "                if arr[min_val_index]>arr[j] and num_1s_in_val[i]==num_1s_in_val[j]:\n",
    "                    min_val_index=j\n",
    "            \n",
    "            num_1s_in_val[i],num_1s_in_val[min_val_index]=num_1s_in_val[min_val_index],num_1s_in_val[i]\n",
    "            arr[i],arr[min_val_index]=arr[min_val_index],arr[i]\n",
    "\n",
    "        return arr\n",
    "\n",
    "\n",
    "\n"
   ]
  },
  {
   "cell_type": "markdown",
   "metadata": {},
   "source": [
    "<b>Single Number III"
   ]
  },
  {
   "cell_type": "code",
   "execution_count": null,
   "metadata": {},
   "outputs": [],
   "source": [
    "class Solution(object):\n",
    "    def singleNumber(self, nums):\n",
    "        \"\"\"\n",
    "        :type nums: List[int]\n",
    "        :rtype: List[int]\n",
    "        \"\"\"\n",
    "        x = 0\n",
    "        for num in nums:\n",
    "            x ^= num\n",
    "            # Step 2: Find the rightmost set bit in the XOR result\n",
    "        mask = x & -x\n",
    "    # Step 3: Separate the elements into two groups\n",
    "        group1, group2 = 0, 0\n",
    "        for num in nums:\n",
    "            if num & mask:\n",
    "                group1 ^= num\n",
    "            else:\n",
    "                group2 ^= num\n",
    "    \n",
    "    # Step 4: XOR all the elements in each group separately\n",
    "        return [group1, group2]"
   ]
  },
  {
   "cell_type": "markdown",
   "metadata": {},
   "source": [
    "<b>Subsets"
   ]
  },
  {
   "cell_type": "code",
   "execution_count": null,
   "metadata": {},
   "outputs": [],
   "source": [
    "class Solution(object):\n",
    "    def subsets(self, nums):\n",
    "        \"\"\"\n",
    "        :type nums: List[int]\n",
    "        :rtype: List[List[int]]\n",
    "        \"\"\"\n",
    "        subsets=[]\n",
    "        bins=[]\n",
    "        for i in range(0,2**(len(nums))):\n",
    "            curr_val=[]\n",
    "            while i>0:\n",
    "                if i%2==0:\n",
    "                    curr_val.insert(0,0)\n",
    "                else:\n",
    "                    i-=1\n",
    "                    curr_val.insert(0,1)\n",
    "                i/=2\n",
    "            if len(curr_val)==0:\n",
    "                bins.append([0])\n",
    "            else:\n",
    "                bins.append(curr_val)\n",
    "        for i in bins:\n",
    "            curr_subset=[]\n",
    "            for j in range(1,len(i)+1):\n",
    "                if i[-j]==1:\n",
    "                    curr_subset.insert(0,nums[-j])\n",
    "            subsets.append(curr_subset)\n",
    "        return subsets"
   ]
  },
  {
   "cell_type": "code",
   "execution_count": null,
   "metadata": {},
   "outputs": [],
   "source": []
  },
  {
   "cell_type": "code",
   "execution_count": null,
   "metadata": {},
   "outputs": [],
   "source": []
  }
 ],
 "metadata": {
  "kernelspec": {
   "display_name": "Python 3",
   "language": "python",
   "name": "python3"
  },
  "language_info": {
   "codemirror_mode": {
    "name": "ipython",
    "version": 3
   },
   "file_extension": ".py",
   "mimetype": "text/x-python",
   "name": "python",
   "nbconvert_exporter": "python",
   "pygments_lexer": "ipython3",
   "version": "3.8.3"
  }
 },
 "nbformat": 4,
 "nbformat_minor": 4
}
